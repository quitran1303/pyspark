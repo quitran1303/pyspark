{
 "cells": [
  {
   "cell_type": "code",
   "execution_count": 1,
   "id": "f2b10392",
   "metadata": {},
   "outputs": [],
   "source": [
    "#imports\n",
    "from pyspark.sql import SparkSession\n"
   ]
  },
  {
   "cell_type": "code",
   "execution_count": 2,
   "id": "78793719",
   "metadata": {},
   "outputs": [
    {
     "name": "stderr",
     "output_type": "stream",
     "text": [
      "23/09/11 16:17:22 WARN SparkSession: Using an existing Spark session; only runtime SQL configurations will take effect.\n"
     ]
    }
   ],
   "source": [
    "#Create Session\n",
    "spark = SparkSession.builder.appName('movie').getOrCreate()"
   ]
  },
  {
   "cell_type": "code",
   "execution_count": 3,
   "id": "739918ed",
   "metadata": {},
   "outputs": [
    {
     "data": {
      "text/plain": [
       "Row(userId=196, title='Kolya (1996)', rating=3)"
      ]
     },
     "execution_count": 3,
     "metadata": {},
     "output_type": "execute_result"
    }
   ],
   "source": [
    "#read data\n",
    "data = spark.read.csv('movie_ratings_df.csv', inferSchema=True, header=True)\n",
    "data.head()\n"
   ]
  },
  {
   "cell_type": "code",
   "execution_count": 4,
   "id": "ba6a5281",
   "metadata": {},
   "outputs": [
    {
     "name": "stdout",
     "output_type": "stream",
     "text": [
      "root\n",
      " |-- userId: integer (nullable = true)\n",
      " |-- title: string (nullable = true)\n",
      " |-- rating: integer (nullable = true)\n",
      "\n"
     ]
    }
   ],
   "source": [
    "data.printSchema()"
   ]
  },
  {
   "cell_type": "markdown",
   "id": "11ea0a99",
   "metadata": {},
   "source": [
    "The title is now stored as string, we need to convert by StringIndexer. "
   ]
  },
  {
   "cell_type": "code",
   "execution_count": 5,
   "id": "d8057f7c",
   "metadata": {},
   "outputs": [],
   "source": [
    "from pyspark.ml.feature import StringIndexer, IndexToString\n",
    "stringIndexer = StringIndexer(inputCol='title', outputCol='num_title')\n",
    "\n",
    "model = stringIndexer.fit(data)\n",
    "\n",
    "indexed_df = model.transform(data)\n"
   ]
  },
  {
   "cell_type": "code",
   "execution_count": 7,
   "id": "1ca0018c",
   "metadata": {},
   "outputs": [
    {
     "name": "stdout",
     "output_type": "stream",
     "text": [
      "+------+------------+------+---------+\n",
      "|userId|       title|rating|num_title|\n",
      "+------+------------+------+---------+\n",
      "|   196|Kolya (1996)|     3|    287.0|\n",
      "|    63|Kolya (1996)|     3|    287.0|\n",
      "|   226|Kolya (1996)|     5|    287.0|\n",
      "|   154|Kolya (1996)|     3|    287.0|\n",
      "|   306|Kolya (1996)|     5|    287.0|\n",
      "+------+------------+------+---------+\n",
      "only showing top 5 rows\n",
      "\n",
      "root\n",
      " |-- userId: integer (nullable = true)\n",
      " |-- title: string (nullable = true)\n",
      " |-- rating: integer (nullable = true)\n",
      " |-- num_title: double (nullable = false)\n",
      "\n"
     ]
    }
   ],
   "source": [
    "indexed_df.show(5)\n",
    "indexed_df.printSchema()"
   ]
  },
  {
   "cell_type": "code",
   "execution_count": 8,
   "id": "53a4c986",
   "metadata": {},
   "outputs": [],
   "source": [
    "#ALS (Alternating least squares) will be used \n",
    "from pyspark.ml.recommendation import ALS"
   ]
  },
  {
   "cell_type": "code",
   "execution_count": 9,
   "id": "63e0df39",
   "metadata": {},
   "outputs": [],
   "source": [
    "#Split 70%, 30% for training and testing set\n",
    "train_set, test_set = indexed_df.randomSplit([0.7,0.3])"
   ]
  },
  {
   "cell_type": "code",
   "execution_count": 12,
   "id": "69d91b23",
   "metadata": {},
   "outputs": [],
   "source": [
    "#Create ALS model\n",
    "recommendation = ALS(maxIter=10, regParam=0.01, userCol='userId', ratingCol='rating', itemCol='num_title', \n",
    "                     nonnegative=True, coldStartStrategy='drop')"
   ]
  },
  {
   "cell_type": "code",
   "execution_count": 13,
   "id": "0edb2dea",
   "metadata": {},
   "outputs": [
    {
     "name": "stderr",
     "output_type": "stream",
     "text": [
      "23/09/11 16:25:39 WARN InstanceBuilder: Failed to load implementation from:dev.ludovic.netlib.blas.JNIBLAS\n",
      "23/09/11 16:25:39 WARN InstanceBuilder: Failed to load implementation from:dev.ludovic.netlib.blas.VectorBLAS\n"
     ]
    }
   ],
   "source": [
    "#fit the model witl training set\n",
    "rec_model = recommendation.fit(train_set)"
   ]
  },
  {
   "cell_type": "code",
   "execution_count": 14,
   "id": "fd31cace",
   "metadata": {},
   "outputs": [
    {
     "name": "stdout",
     "output_type": "stream",
     "text": [
      "+------+--------------------+------+---------+----------+\n",
      "|userId|               title|rating|num_title|prediction|\n",
      "+------+--------------------+------+---------+----------+\n",
      "|   148|Around the World ...|     4|    540.0| 2.7131686|\n",
      "|   148|         Babe (1995)|     4|     96.0| 4.3552203|\n",
      "|   148|  Being There (1979)|     5|    290.0| 4.5945396|\n",
      "|   148|       Brazil (1985)|     4|    109.0| 5.3253975|\n",
      "|   148|     Fantasia (1940)|     5|    153.0| 5.7669916|\n",
      "+------+--------------------+------+---------+----------+\n",
      "only showing top 5 rows\n",
      "\n"
     ]
    }
   ],
   "source": [
    "#Making the prediction with testing set\n",
    "predictions = rec_model.transform(test_set)\n",
    "\n",
    "predictions.show(5)"
   ]
  },
  {
   "cell_type": "code",
   "execution_count": 18,
   "id": "b1ecd868",
   "metadata": {},
   "outputs": [
    {
     "name": "stdout",
     "output_type": "stream",
     "text": [
      "RMSE value: 1.0425300215296913\n"
     ]
    }
   ],
   "source": [
    "#Evaluate the model with RegressionEvaluator\n",
    "from pyspark.ml.evaluation import RegressionEvaluator\n",
    "\n",
    "eval = RegressionEvaluator(predictionCol='prediction', labelCol='rating', metricName='rmse')\n",
    "\n",
    "#apply the evaluation to the predictions result above\n",
    "rmse = eval.evaluate(predictions)\n",
    "print('RMSE value:',rmse)"
   ]
  },
  {
   "cell_type": "code",
   "execution_count": 28,
   "id": "4210ecee",
   "metadata": {},
   "outputs": [
    {
     "name": "stdout",
     "output_type": "stream",
     "text": [
      "Total uniqued film 1664\n"
     ]
    }
   ],
   "source": [
    "#Now create top N films to recommend to a specific userId\n",
    "#Create unique list of all films\n",
    "\n",
    "unique_film_list = indexed_df.select('num_title').distinct()\n",
    "print('Total uniqued film', unique_film_list.count())"
   ]
  },
  {
   "cell_type": "code",
   "execution_count": 66,
   "id": "00f2e7da",
   "metadata": {},
   "outputs": [],
   "source": [
    "#create a function get inputs (userId and N=number of recommended films), return a list of top recommend film that user have \n",
    "#not give rating\n",
    "from pyspark.sql.functions import col, split, lit\n",
    "\n",
    "def top_n_movies(userId, n):\n",
    "    #a df for unique films\n",
    "    left = unique_film_list.alias('left')\n",
    "    \n",
    "    #create list of watched film\n",
    "    watched_film = indexed_df.filter(indexed_df['userId'] == userId).select('num_title')\n",
    "    \n",
    "    right = watched_film.alias('right')\n",
    "    \n",
    "    #left joining two dataframe \n",
    "    all_movies = left.join(right, left.num_title == right.num_title, how='left')\n",
    "    \n",
    "    #remaining films \n",
    "    remaining_film = all_movies.where(col('right.num_title').isNull()).select(left.num_title).distinct()\n",
    "    \n",
    "    #add user_id\n",
    "    remaining_film = remaining_film.withColumn('userId', lit(int(userId)))\n",
    "    \n",
    "    #add recommend values into the remaining list\n",
    "    recommendations = rec_model.transform(remaining_film).orderBy('prediction', ascending=False).limit(n)\n",
    "    \n",
    "    #add title column back, the 'model.labels' is from the step of StringIndexer above\n",
    "    movie_title = IndexToString(inputCol='num_title', outputCol='title', labels=model.labels)\n",
    "    final_recommendations = movie_title.transform(recommendations)\n",
    "    \n",
    "    return final_recommendations.select('title','prediction').show(n,False)\n",
    "    \n",
    "    "
   ]
  },
  {
   "cell_type": "code",
   "execution_count": 67,
   "id": "b9cdadc9",
   "metadata": {},
   "outputs": [
    {
     "name": "stdout",
     "output_type": "stream",
     "text": [
      "+-----------------------------------------------------------+----------+\n",
      "|title                                                      |prediction|\n",
      "+-----------------------------------------------------------+----------+\n",
      "|Paradise Lost: The Child Murders at Robin Hood Hills (1996)|7.8412967 |\n",
      "|City of Industry (1997)                                    |6.974758  |\n",
      "|Vanya on 42nd Street (1994)                                |6.3698115 |\n",
      "|War Room, The (1993)                                       |6.253435  |\n",
      "|Angel Baby (1995)                                          |6.174093  |\n",
      "|Paths of Glory (1957)                                      |6.028388  |\n",
      "|Dangerous Beauty (1998)                                    |5.9814606 |\n",
      "|Widows' Peak (1994)                                        |5.9168186 |\n",
      "|Persuasion (1995)                                          |5.8225775 |\n",
      "|Jane Eyre (1996)                                           |5.8200393 |\n",
      "|Pather Panchali (1955)                                     |5.8095965 |\n",
      "|Cronos (1992)                                              |5.8015532 |\n",
      "|Pillow Book, The (1995)                                    |5.727076  |\n",
      "|Celluloid Closet, The (1995)                               |5.6752334 |\n",
      "|Addiction, The (1995)                                      |5.6733985 |\n",
      "+-----------------------------------------------------------+----------+\n",
      "\n"
     ]
    }
   ],
   "source": [
    "top_n_movies(45,15)"
   ]
  },
  {
   "cell_type": "code",
   "execution_count": null,
   "id": "e0b1c37f",
   "metadata": {},
   "outputs": [],
   "source": []
  }
 ],
 "metadata": {
  "kernelspec": {
   "display_name": "Python 3 (ipykernel)",
   "language": "python",
   "name": "python3"
  },
  "language_info": {
   "codemirror_mode": {
    "name": "ipython",
    "version": 3
   },
   "file_extension": ".py",
   "mimetype": "text/x-python",
   "name": "python",
   "nbconvert_exporter": "python",
   "pygments_lexer": "ipython3",
   "version": "3.9.13"
  }
 },
 "nbformat": 4,
 "nbformat_minor": 5
}
